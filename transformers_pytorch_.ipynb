{
  "nbformat": 4,
  "nbformat_minor": 0,
  "metadata": {
    "colab": {
      "provenance": [],
      "authorship_tag": "ABX9TyNfPf/w2dFYYM1YCYu8eqRW",
      "include_colab_link": true
    },
    "kernelspec": {
      "name": "python3",
      "display_name": "Python 3"
    },
    "language_info": {
      "name": "python"
    }
  },
  "cells": [
    {
      "cell_type": "markdown",
      "metadata": {
        "id": "view-in-github",
        "colab_type": "text"
      },
      "source": [
        "<a href=\"https://colab.research.google.com/github/panditamey1/NLP_transformers/blob/main/transformers_pytorch_.ipynb\" target=\"_parent\"><img src=\"https://colab.research.google.com/assets/colab-badge.svg\" alt=\"Open In Colab\"/></a>"
      ]
    },
    {
      "cell_type": "markdown",
      "source": [
        "## Self attention\n"
      ],
      "metadata": {
        "id": "vn8ulUZMZ0F4"
      }
    },
    {
      "cell_type": "markdown",
      "source": [
        "Key, Query, Value \n",
        "- Create matrices for KQV\n",
        " "
      ],
      "metadata": {
        "id": "qooexvOlvQCX"
      }
    },
    {
      "cell_type": "code",
      "source": [
        "import numpy as np\n",
        "np.random.seed(42)"
      ],
      "metadata": {
        "id": "yzTCG9iVwoZe"
      },
      "execution_count": 1,
      "outputs": []
    },
    {
      "cell_type": "code",
      "source": [
        "t = 4\n",
        "d = 12 # model dimensions\n",
        "\n",
        "Wk = np.random.randn(d,d)\n",
        "Wq = np.random.randn(d,d)\n",
        "Wv = np.random.randn(d,d)\n",
        "\n",
        "Wk.shape"
      ],
      "metadata": {
        "colab": {
          "base_uri": "https://localhost:8080/"
        },
        "id": "YKduxupwvYgF",
        "outputId": "fb48649f-5913-4fcd-80bd-e95fe1dfa397"
      },
      "execution_count": 4,
      "outputs": [
        {
          "output_type": "execute_result",
          "data": {
            "text/plain": [
              "(12, 12)"
            ]
          },
          "metadata": {},
          "execution_count": 4
        }
      ]
    },
    {
      "cell_type": "code",
      "source": [
        "X = np.random.randn(t,d)  # t = token size"
      ],
      "metadata": {
        "id": "Ik2DzRnGxADa"
      },
      "execution_count": 5,
      "outputs": []
    },
    {
      "cell_type": "code",
      "source": [
        "X.shape\n"
      ],
      "metadata": {
        "colab": {
          "base_uri": "https://localhost:8080/"
        },
        "id": "J-guacgexRny",
        "outputId": "5ad68669-fbb3-4768-fe2a-af2e30224490"
      },
      "execution_count": 6,
      "outputs": [
        {
          "output_type": "execute_result",
          "data": {
            "text/plain": [
              "(4, 12)"
            ]
          },
          "metadata": {},
          "execution_count": 6
        }
      ]
    },
    {
      "cell_type": "markdown",
      "source": [
        "- take dot product of (Q*K.T/np.sqrt(d) )* V"
      ],
      "metadata": {
        "id": "Hetf6QPgxc-D"
      }
    },
    {
      "cell_type": "code",
      "source": [
        "Q = np.dot(X, Wq)\n",
        "K = np.dot(X, Wk)\n",
        "\n",
        "K.shape"
      ],
      "metadata": {
        "colab": {
          "base_uri": "https://localhost:8080/"
        },
        "id": "zku8qhhFxWF6",
        "outputId": "4fd16fe8-9f9b-44f9-df5d-ecfd0ab4d01a"
      },
      "execution_count": 7,
      "outputs": [
        {
          "output_type": "execute_result",
          "data": {
            "text/plain": [
              "(4, 12)"
            ]
          },
          "metadata": {},
          "execution_count": 7
        }
      ]
    },
    {
      "cell_type": "code",
      "source": [
        "## dot product of q and k\n",
        "\n",
        "QK = np.dot(Q,K.T)\n"
      ],
      "metadata": {
        "id": "PR23S76xykgl"
      },
      "execution_count": 8,
      "outputs": []
    },
    {
      "cell_type": "code",
      "source": [
        "QK = QK / np.sqrt(d)"
      ],
      "metadata": {
        "id": "ww-g18Fpyxex"
      },
      "execution_count": 9,
      "outputs": []
    },
    {
      "cell_type": "code",
      "source": [
        "## Softmax\n",
        "def softmax(x):\n",
        "    return(np.exp(x)/np.exp(x).sum())\n",
        "scaled_QK = softmax(QK)"
      ],
      "metadata": {
        "id": "M1u6W0dIy4OX"
      },
      "execution_count": 10,
      "outputs": []
    },
    {
      "cell_type": "code",
      "source": [
        "QK.shape"
      ],
      "metadata": {
        "colab": {
          "base_uri": "https://localhost:8080/"
        },
        "id": "qQ2S9x_94rnS",
        "outputId": "ad92233a-9b6d-4bdb-a422-3f945f601d53"
      },
      "execution_count": 13,
      "outputs": [
        {
          "output_type": "execute_result",
          "data": {
            "text/plain": [
              "(4, 4)"
            ]
          },
          "metadata": {},
          "execution_count": 13
        }
      ]
    },
    {
      "cell_type": "code",
      "source": [
        "K = np.dot(X, Wk)"
      ],
      "metadata": {
        "id": "ku7BoWfc42iz"
      },
      "execution_count": 14,
      "outputs": []
    },
    {
      "cell_type": "code",
      "source": [
        "K.shape"
      ],
      "metadata": {
        "colab": {
          "base_uri": "https://localhost:8080/"
        },
        "id": "KvJUG_b65DRx",
        "outputId": "5ec5b3a7-b979-4353-aaef-0244d4f05eb2"
      },
      "execution_count": 16,
      "outputs": [
        {
          "output_type": "execute_result",
          "data": {
            "text/plain": [
              "(4, 12)"
            ]
          },
          "metadata": {},
          "execution_count": 16
        }
      ]
    },
    {
      "cell_type": "code",
      "source": [
        "QKV = np.dot(scaled_QK, K)"
      ],
      "metadata": {
        "id": "Tkjy0r0C0CTZ"
      },
      "execution_count": 17,
      "outputs": []
    },
    {
      "cell_type": "code",
      "source": [
        "QKV.shape"
      ],
      "metadata": {
        "colab": {
          "base_uri": "https://localhost:8080/"
        },
        "id": "LceO5GXk0N_v",
        "outputId": "45ec67d6-fd79-4d74-dfe5-e4f1b14eb1b7"
      },
      "execution_count": 18,
      "outputs": [
        {
          "output_type": "execute_result",
          "data": {
            "text/plain": [
              "(4, 12)"
            ]
          },
          "metadata": {},
          "execution_count": 18
        }
      ]
    },
    {
      "cell_type": "code",
      "source": [],
      "metadata": {
        "id": "jK2EEjkK5LcL"
      },
      "execution_count": null,
      "outputs": []
    }
  ]
}